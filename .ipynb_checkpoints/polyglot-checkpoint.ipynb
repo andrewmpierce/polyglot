{
 "cells": [
  {
   "cell_type": "code",
   "execution_count": 37,
   "metadata": {
    "collapsed": false
   },
   "outputs": [],
   "source": [
    "import glob\n",
    "import pandas as pd\n",
    "import numpy as np\n",
    "from sklearn.pipeline import Pipeline\n",
    "from sklearn.feature_extraction.text import TfidfTransformer\n",
    "from sklearn.naive_bayes import MultinomialNB\n",
    "\n"
   ]
  },
  {
   "cell_type": "code",
   "execution_count": 38,
   "metadata": {
    "collapsed": true
   },
   "outputs": [],
   "source": [
    "def read_code(lang):\n",
    "    files = glob.glob('benchmarks/benchmarksgame/bench/fasta/*.{}'.format(lang))\n",
    "    texts = []\n",
    "    for file in files:\n",
    "        with open(file) as f:\n",
    "            texts.append(f.read())\n",
    "    print(texts)\n",
    "    return texts"
   ]
  },
  {
   "cell_type": "raw",
   "metadata": {
    "collapsed": true
   },
   "source": []
  },
  {
   "cell_type": "code",
   "execution_count": 39,
   "metadata": {
    "collapsed": false
   },
   "outputs": [],
   "source": [
    "clojure = glob.glob('benchmarks/benchmarksgame/bench/fasta/*.clojure')"
   ]
  },
  {
   "cell_type": "code",
   "execution_count": 44,
   "metadata": {
    "collapsed": true
   },
   "outputs": [],
   "source": [
    "def read_code(lang):    \n",
    "    clojure = glob.glob('benchmarks/benchmarksgame/bench/fasta/*.{}'.format(lang))\n",
    "    text = []\n",
    "    for file in clojure:\n",
    "        with open(file) as f:\n",
    "            text.append(f.read())\n",
    "    print(text)"
   ]
  },
  {
   "cell_type": "code",
   "execution_count": 50,
   "metadata": {
    "collapsed": false
   },
   "outputs": [
    {
     "name": "stdout",
     "output_type": "stream",
     "text": [
      "[';;   The Computer Language Benchmarks Game\\n;;   http://benchmarksgame.alioth.debian.org/\\n\\n;; contributed by Andy Fingerhut\\n\\n(ns fasta\\n  (:gen-class))\\n\\n(set! *warn-on-reflection* true)\\n\\n;; Handle slight difference in function name between Clojure 1.2.0 and\\n;; 1.3.0-alpha*.\\n(defmacro my-unchecked-inc-int [& args]\\n  (if (and (== (*clojure-version* :major) 1)\\n           (== (*clojure-version* :minor) 2))\\n    `(unchecked-inc ~@args)\\n    `(unchecked-inc-int ~@args)))\\n\\n(defmacro my-unchecked-add-int [& args]\\n  (if (and (== (*clojure-version* :major) 1)\\n           (== (*clojure-version* :minor) 2))\\n    `(unchecked-add ~@args)\\n    `(unchecked-add-int ~@args)))\\n\\n(defmacro my-unchecked-multiply-int [& args]\\n  (if (and (== (*clojure-version* :major) 1)\\n           (== (*clojure-version* :minor) 2))\\n    `(unchecked-multiply ~@args)\\n    `(unchecked-multiply-int ~@args)))\\n\\n(defmacro my-unchecked-remainder-int [& args]\\n  (if (and (== (*clojure-version* :major) 1)\\n           (== (*clojure-version* :minor) 2))\\n    `(unchecked-remainder ~@args)\\n    `(unchecked-remainder-int ~@args)))\\n\\n\\n(defn make-repeat-fasta [#^java.io.BufferedOutputStream ostream\\n                         line-length id desc s n]\\n  (let [descstr (str \">\" id \" \" desc \"\\\\n\")]\\n    (.write ostream (.getBytes descstr) 0 (count descstr)))\\n  (let [s-len (int (count s))\\n        line-length (int line-length)\\n        line-length+1 (int (inc line-length))\\n        min-buf-len (int (+ s-len line-length))\\n        repeat-count (int (inc (quot min-buf-len s-len)))\\n        buf (apply str (repeat repeat-count s))\\n        ;; Precompute all byte arrays that we might want to write, one\\n        ;; at each possible offset in the string s to be repeated.\\n        line-strings (vec (map (fn [i]\\n                                 (.getBytes (str (subs buf i (+ i line-length))\\n                                                 \"\\\\n\")))\\n                               (range 0 s-len)))\\n        num-full-lines (int (quot n line-length))]\\n    (loop [j (int 0)\\n           s-offset (int 0)]\\n      (if (== j num-full-lines)\\n        ;; Write out the left over part of length n, if any.\\n        (let [remaining (int (rem n line-length))]\\n          (when (not= 0 remaining)\\n            (.write ostream\\n                    (.getBytes (str (subs buf s-offset (+ s-offset remaining))\\n                                    \"\\\\n\"))\\n                    0 (inc remaining))))\\n        (do\\n          (.write ostream #^bytes (line-strings s-offset) 0 line-length+1)\\n          (recur (inc j) (int (my-unchecked-remainder-int\\n                               (my-unchecked-add-int s-offset line-length)\\n                               s-len))))))))\\n\\n\\n(definterface IPRNG\\n  (gen_random_BANG_ [^double max-val]))\\n\\n\\n(deftype PRNG [^{:unsynchronized-mutable true :tag int} rand-state]\\n  IPRNG\\n  (gen-random! [this max-val]\\n    (let [IM (int 139968)\\n          IM-double (double 139968.0)\\n          IA (int 3877)\\n          IC (int 29573)\\n          max (double max-val)\\n          last-state (int rand-state)\\n          next-state (int (my-unchecked-remainder-int\\n                           (my-unchecked-add-int\\n                            (my-unchecked-multiply-int last-state IA) IC) IM))\\n          next-state-double (double next-state)]\\n      (set! rand-state next-state)\\n      (/ (* max next-state-double) IM-double))))\\n\\n\\n(defmacro fill-random! [#^bytes gene-bytes #^doubles gene-cdf n #^bytes buf\\n                        my-prng]\\n  `(let [double-one# (double 1.0)]\\n     (dotimes [i# ~n]\\n       (let [x# (double (.gen-random! ~my-prng double-one#))\\n             ;; In my performance testing, I found linear search to\\n             ;; be a little faster than binary search.  The arrays\\n             ;; being searched are small.\\n             b# (byte (loop [j# (int 0)]\\n                        (if (< x# (aget ~gene-cdf j#))\\n                          (aget ~gene-bytes j#)\\n                          (recur (my-unchecked-inc-int j#)))))]\\n         (aset ~buf i# b#)))))\\n\\n\\n(defn make-random-fasta [#^java.io.BufferedOutputStream ostream\\n                         line-length id desc n #^bytes gene-bytes\\n                         #^doubles gene-cdf #^PRNG my-prng]\\n  (let [descstr (str \">\" id \" \" desc \"\\\\n\")]\\n    (.write ostream (.getBytes descstr)))\\n  (let [line-length (int line-length)\\n        len-with-newline (int (inc line-length))\\n        num-full-lines (int (quot n line-length))\\n        line-buf (byte-array len-with-newline)]\\n    (aset line-buf line-length (byte (int \\\\newline)))\\n    (dotimes [i num-full-lines]\\n      (fill-random! gene-bytes gene-cdf line-length line-buf my-prng)\\n      (.write ostream line-buf (int 0) len-with-newline))\\n    (let [remaining-len (int (rem n line-length))]\\n      (when (not= 0 remaining-len)\\n        (fill-random! gene-bytes gene-cdf remaining-len line-buf my-prng)\\n        (.write ostream line-buf 0 remaining-len)\\n        (.write ostream (int \\\\newline)))))\\n  my-prng)\\n\\n\\n(def alu (str \"GGCCGGGCGCGGTGGCTCACGCCTGTAATCCCAGCACTTTGG\"\\n              \"GAGGCCGAGGCGGGCGGATCACCTGAGGTCAGGAGTTCGAGA\"\\n              \"CCAGCCTGGCCAACATGGTGAAACCCCGTCTCTACTAAAAAT\"\\n              \"ACAAAAATTAGCCGGGCGTGGTGGCGCGCGCCTGTAATCCCA\"\\n              \"GCTACTCGGGAGGCTGAGGCAGGAGAATCGCTTGAACCCGGG\"\\n              \"AGGCGGAGGTTGCAGTGAGCCGAGATCGCGCCACTGCACTCC\"\\n              \"AGCCTGGGCGACAGAGCGAGACTCCGTCTCAAAAA\"))\\n\\n(def iub [[\\\\a 0.27]\\n          [\\\\c 0.12]\\n          [\\\\g 0.12]\\n          [\\\\t 0.27]\\n          [\\\\B 0.02]\\n          [\\\\D 0.02]\\n          [\\\\H 0.02]\\n          [\\\\K 0.02]\\n          [\\\\M 0.02]\\n          [\\\\N 0.02]\\n          [\\\\R 0.02]\\n          [\\\\S 0.02]\\n          [\\\\V 0.02]\\n          [\\\\W 0.02]\\n          [\\\\Y 0.02]])\\n\\n(def homosapiens [[\\\\a 0.3029549426680]\\n                  [\\\\c 0.1979883004921]\\n                  [\\\\g 0.1975473066391]\\n                  [\\\\t 0.3015094502008]])\\n\\n\\n(defn prefix-sums-helper [x coll]\\n  (lazy-seq\\n   (when-let [s (seq coll)]\\n     (let [sum (+ x (first s))]\\n       (cons sum (prefix-sums-helper sum (rest s)))))))\\n\\n\\n(defn prefix-sums [coll]\\n  (prefix-sums-helper 0 coll))\\n\\n\\n(defn make-genelist [pdf-map]\\n  (let [n (count pdf-map)\\n        bytes (byte-array n (map (fn [pair]\\n                                   (byte (int (first pair))))\\n                                 pdf-map))\\n        cdf (double-array n (prefix-sums (map #(nth % 1) pdf-map)))]\\n    [bytes cdf]))\\n\\n\\n(defn -main [& args]\\n  (let [n (if (and (>= (count args) 1)\\n                   (re-matches #\"^\\\\d+$\" (nth args 0)))\\n            (. Integer valueOf (nth args 0) 10))\\n        line-length 60\\n        ostream (java.io.BufferedOutputStream. System/out)\\n        [iub-bytes iub-cdf] (make-genelist iub)\\n        [homosapiens-bytes homosapiens-cdf] (make-genelist homosapiens)\\n        my-prng (PRNG. (int 42))]\\n    (make-repeat-fasta ostream line-length \"ONE\" \"Homo sapiens alu\" alu (* 2 n))\\n    (let [my-prng2\\n          (make-random-fasta ostream line-length \"TWO\" \"IUB ambiguity codes\"\\n                             (* 3 n) iub-bytes iub-cdf my-prng)]\\n      (make-random-fasta ostream line-length \"THREE\" \"Homo sapiens frequency\"\\n                         (* 5 n) homosapiens-bytes homosapiens-cdf my-prng2))\\n    (.flush ostream)))\\n', ';;   The Computer Language Benchmarks Game\\n;;   http://benchmarksgame.alioth.debian.org/\\n\\n;; contributed by Andy Fingerhut\\n;; refined by Rich Hickey\\n\\n(ns fasta\\n  (:gen-class))\\n\\n(set! *warn-on-reflection* true)\\n(set! *unchecked-math* true)\\n\\n(def ^:const ^:long line-length 60)\\n\\n(defn make-repeat-fasta [#^java.io.BufferedOutputStream ostream\\n                         line-length id desc s n]\\n  (let [descstr (str \">\" id \" \" desc \"\\\\n\")]\\n    (.write ostream (.getBytes descstr) 0 (count descstr)))\\n  (let [s-len (count s)\\n        line-length ^long line-length\\n        min-buf-len (+ s-len line-length)\\n        repeat-count (inc (quot min-buf-len s-len))\\n        buf (apply str (repeat repeat-count s))\\n        ;; Precompute all byte arrays that we might want to write, one\\n        ;; at each possible offset in the string s to be repeated.\\n        line-strings (vec (map (fn [i]\\n                                 (.getBytes (str (subs buf i (+ i line-length))\\n                                                 \"\\\\n\")))\\n                               (range 0 s-len)))\\n        num-full-lines (quot n line-length)]\\n    (loop [j 0\\n           s-offset 0]\\n      (if (== j num-full-lines)\\n        ;; Write out the left over part of length n, if any.\\n        (let [remaining (rem n line-length)]\\n          (when (not= 0 remaining)\\n            (.write ostream\\n                    (.getBytes (str (subs buf s-offset (+ s-offset remaining))\\n                                    \"\\\\n\"))\\n                    0 (inc remaining))))\\n        (do\\n          (.write ostream #^bytes (line-strings s-offset) 0 (int (inc line-length)))\\n          (recur (inc j) (rem\\n                          (+ s-offset line-length)\\n                          s-len)))))))\\n\\n(definterface IPRNG\\n  (gen_random_BANG_ ^double [^double max-val]))\\n\\n(def ^:const IM 139968)\\n(def ^:const IA 3877)\\n(def ^:const IC 29573)\\n(def ^:const ONE_OVER_IM (/ 1.0 IM))\\n\\n(deftype PRNG [^{:unsynchronized-mutable true :tag long} rand-state]\\n  IPRNG\\n  (gen-random! [this max-val]\\n      (let [next-state (rem (+ (* rand-state IA) IC) IM)]\\n        (set! rand-state next-state)\\n        (* max-val next-state ONE_OVER_IM))))\\n\\n(defn fill-random! [#^bytes gene-bytes #^doubles gene-cdf n #^bytes buf ^fasta.PRNG my-prng]\\n  (let [n ^long n]\\n    (loop [i 0]\\n      (when (< i n)\\n        (let [x (.gen-random! my-prng 1.0)]\\n          (loop [j 0]\\n            (if (< x (aget gene-cdf j))\\n              (aset buf i (aget gene-bytes j))\\n              (recur (inc j)))))\\n        (recur (inc i))))))\\n\\n(defn make-random-fasta [#^java.io.BufferedOutputStream ostream\\n                         line-length id desc n #^bytes gene-bytes\\n                         #^doubles gene-cdf #^PRNG my-prng]\\n  (let [descstr (str \">\" id \" \" desc \"\\\\n\")]\\n    (.write ostream (.getBytes descstr)))\\n  (let [len-with-newline (inc line-length)\\n        num-full-lines (quot n line-length)\\n        line-buf (byte-array len-with-newline)]\\n    (aset line-buf line-length (byte (int \\\\newline)))\\n    (dotimes [i num-full-lines]\\n      (fill-random! gene-bytes gene-cdf line-length line-buf my-prng)\\n      (.write ostream line-buf (int 0) len-with-newline)\\n      )\\n    (let [remaining-len (rem n line-length)]\\n      (when (not= 0 remaining-len)\\n        (fill-random! gene-bytes gene-cdf remaining-len line-buf my-prng)\\n        (.write ostream line-buf 0 remaining-len)\\n        (.write ostream (int \\\\newline)))))\\n  my-prng)\\n\\n(def alu (str \"GGCCGGGCGCGGTGGCTCACGCCTGTAATCCCAGCACTTTGG\"\\n              \"GAGGCCGAGGCGGGCGGATCACCTGAGGTCAGGAGTTCGAGA\"\\n              \"CCAGCCTGGCCAACATGGTGAAACCCCGTCTCTACTAAAAAT\"\\n              \"ACAAAAATTAGCCGGGCGTGGTGGCGCGCGCCTGTAATCCCA\"\\n              \"GCTACTCGGGAGGCTGAGGCAGGAGAATCGCTTGAACCCGGG\"\\n              \"AGGCGGAGGTTGCAGTGAGCCGAGATCGCGCCACTGCACTCC\"\\n              \"AGCCTGGGCGACAGAGCGAGACTCCGTCTCAAAAA\"))\\n\\n(def iub [[\\\\a 0.27]\\n          [\\\\c 0.12]\\n          [\\\\g 0.12]\\n          [\\\\t 0.27]\\n          [\\\\B 0.02]\\n          [\\\\D 0.02]\\n          [\\\\H 0.02]\\n          [\\\\K 0.02]\\n          [\\\\M 0.02]\\n          [\\\\N 0.02]\\n          [\\\\R 0.02]\\n          [\\\\S 0.02]\\n          [\\\\V 0.02]\\n          [\\\\W 0.02]\\n          [\\\\Y 0.02]])\\n\\n(def homosapiens [[\\\\a 0.3029549426680]\\n                  [\\\\c 0.1979883004921]\\n                  [\\\\g 0.1975473066391]\\n                  [\\\\t 0.3015094502008]])\\n\\n(defn prefix-sums-helper [x coll]\\n  (lazy-seq\\n   (when-let [s (seq coll)]\\n     (let [sum (+ x (first s))]\\n       (cons sum (prefix-sums-helper sum (rest s)))))))\\n\\n(defn prefix-sums [coll]\\n  (prefix-sums-helper 0 coll))\\n\\n(defn make-genelist [pdf-map]\\n  (let [n (count pdf-map)\\n        bytes (byte-array n (map (fn [pair]\\n                                   (byte (int (first pair))))\\n                                 pdf-map))\\n        cdf (double-array n (prefix-sums (map #(nth % 1) pdf-map)))]\\n    [bytes cdf]))\\n\\n(defn -main [& args]\\n  (let [n (if (and (>= (count args) 1)\\n                   (re-matches #\"^\\\\d+$\" (nth args 0)))\\n            (. Integer valueOf (nth args 0) 10))\\n        ostream (java.io.BufferedOutputStream. System/out (* (inc line-length) 1024))\\n        [iub-bytes iub-cdf] (make-genelist iub)\\n        [homosapiens-bytes homosapiens-cdf] (make-genelist homosapiens)\\n        my-prng (PRNG. 42)]\\n    (make-repeat-fasta ostream line-length \"ONE\" \"Homo sapiens alu\" alu (* 2 n))\\n    (let [my-prng2\\n          (make-random-fasta ostream line-length \"TWO\" \"IUB ambiguity codes\"\\n                             (* 3 n) iub-bytes iub-cdf my-prng)]\\n      (make-random-fasta ostream line-length \"THREE\" \"Homo sapiens frequency\"\\n                         (* 5 n) homosapiens-bytes homosapiens-cdf my-prng2))\\n    (.flush ostream)))\\n']\n"
     ]
    }
   ],
   "source": [
    "clojure = glob.glob('benchmarks/benchmarksgame/bench/fasta/*.clojure')\n",
    "text = []\n",
    "for file in clojure:\n",
    "    with open(file) as f:\n",
    "        text.append(f.read())\n",
    "print(text)"
   ]
  },
  {
   "cell_type": "raw",
   "metadata": {},
   "source": []
  },
  {
   "cell_type": "code",
   "execution_count": 46,
   "metadata": {
    "collapsed": false
   },
   "outputs": [
    {
     "name": "stdout",
     "output_type": "stream",
     "text": [
      "None\n"
     ]
    }
   ],
   "source": [
    "print(cloj)"
   ]
  },
  {
   "cell_type": "code",
   "execution_count": null,
   "metadata": {
    "collapsed": true
   },
   "outputs": [],
   "source": []
  }
 ],
 "metadata": {
  "kernelspec": {
   "display_name": "Python 3",
   "language": "python",
   "name": "python3"
  },
  "language_info": {
   "codemirror_mode": {
    "name": "ipython",
    "version": 3
   },
   "file_extension": ".py",
   "mimetype": "text/x-python",
   "name": "python",
   "nbconvert_exporter": "python",
   "pygments_lexer": "ipython3",
   "version": "3.4.3"
  }
 },
 "nbformat": 4,
 "nbformat_minor": 0
}
