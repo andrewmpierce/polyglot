{
 "cells": [
  {
   "cell_type": "code",
   "execution_count": 258,
   "metadata": {
    "collapsed": false
   },
   "outputs": [],
   "source": [
    "import glob\n",
    "import pandas as pd\n",
    "import numpy as np\n",
    "from sklearn.pipeline import Pipeline\n",
    "from sklearn.feature_extraction.text import TfidfTransformer\n",
    "from sklearn.naive_bayes import MultinomialNB\n",
    "from sklearn.feature_extraction.text import CountVectorizer\n",
    "import itertools\n",
    "from sklearn.metrics import classification_report, confusion_matrix\n",
    "from sklearn.tree import DecisionTreeClassifier\n",
    "from sklearn.pipeline import make_pipeline, make_union\n",
    "from sklearn.base import TransformerMixin\n",
    "import re\n",
    "from textblob import TextBlob\n",
    "from collections import Counter\n",
    "from sklearn.ensemble import RandomForestClassifier\n",
    "from polyglot import *"
   ]
  },
  {
   "cell_type": "code",
   "execution_count": 259,
   "metadata": {
    "collapsed": true
   },
   "outputs": [],
   "source": [
    "def read_code(directory, lang):\n",
    "    text = []\n",
    "    files = glob.glob('benchmarks/benchmarksgame/bench/{}/*{}'.format(directory, lang))    \n",
    "    for file in files:\n",
    "        with open(file,) as f:\n",
    "            text.append((f.read(), lang))\n",
    "    return text"
   ]
  },
  {
   "cell_type": "code",
   "execution_count": null,
   "metadata": {
    "collapsed": false
   },
   "outputs": [],
   "source": []
  },
  {
   "cell_type": "code",
   "execution_count": 260,
   "metadata": {
    "collapsed": false
   },
   "outputs": [],
   "source": [
    "languages = ['.gcc', '.csharp', '.sbcl',\n",
    "             '.clojure', '.ats',\n",
    "            '.go', '.hack', '.hs'\n",
    "            '.java', '.javascript',\n",
    "            '.jruby', '.ocaml', '.perl', '.tcl'\n",
    "            '.php', '.python3', '.racket', '.rust',\n",
    "            '.scala', '.scm', '.vw']\n",
    "\n",
    "all_langs = [read_code('fasta', lang) for lang in languages]\n",
    "all_langs  = list(itertools.chain(*all_langs))\n",
    "langs = [x[0] for x in all_langs]\n",
    "exts = [x[1] for x in all_langs]\n",
    "\n",
    "all_langs_fr = [read_code('fastaredux', lang) for lang in languages]\n",
    "all_langs_fr  = list(itertools.chain(*all_langs_fr))\n",
    "langs_fr = [x[0] for x in all_langs_fr]\n",
    "exts_fr = [x[1] for x in all_langs_fr]\n",
    "\n",
    "all_langs_b = [read_code('binarytrees', lang) for lang in languages]\n",
    "all_langs_b  = list(itertools.chain(*all_langs_b))\n",
    "langs_b = [x[0] for x in all_langs_b]\n",
    "exts_b = [x[1] for x in all_langs_b]\n",
    "\n",
    "all_langs_m = [read_code('meteor', lang) for lang in languages]\n",
    "all_langs_m  = list(itertools.chain(*all_langs_m))\n",
    "langs_m = [x[0] for x in all_langs_m]\n",
    "exts_m = [x[1] for x in all_langs_m]\n",
    "\n",
    "all_langs_n = [read_code('knucleotide', lang) for lang in languages]\n",
    "all_langs_n  = list(itertools.chain(*all_langs_n))\n",
    "langs_n = [x[0] for x in all_langs_n]\n",
    "exts_n = [x[1] for x in all_langs_n]\n",
    "\n",
    "all_langs_r = [read_code('revcomp', lang) for lang in languages]\n",
    "all_langs_r  = list(itertools.chain(*all_langs_r))\n",
    "langs_r = [x[0] for x in all_langs_r]\n",
    "exts_r = [x[1] for x in all_langs_r]\n",
    "\n",
    "all_langs_rd = [read_code('regexdna', lang) for lang in languages]\n",
    "all_langs_rd  = list(itertools.chain(*all_langs_rd))\n",
    "langs_rd = [x[0] for x in all_langs_rd]\n",
    "exts_rd = [x[1] for x in all_langs_rd]\n",
    "\n",
    "all_langs_md = [read_code('mandelbrot', lang) for lang in languages]\n",
    "all_langs_md  = list(itertools.chain(*all_langs_md))\n",
    "langs_md = [x[0] for x in all_langs_md]\n",
    "exts_md = [x[1] for x in all_langs_md]\n",
    "\n",
    "all_langs_s = [read_code('spectralnorm', lang) for lang in languages]\n",
    "all_langs_s  = list(itertools.chain(*all_langs_s))\n",
    "langs_s = [x[0] for x in all_langs_s]\n",
    "exts_s = [x[1] for x in all_langs_s]\n",
    "\n",
    "\n",
    "x_train = langs+langs_fr+langs_b+langs_m+langs_n+langs_r+langs_rd+langs_md+langs_s\n",
    "y_train = exts+exts_fr+exts_b+exts_m+exts_n+exts_r+exts_rd+exts_md+exts_s"
   ]
  },
  {
   "cell_type": "code",
   "execution_count": null,
   "metadata": {
    "collapsed": false
   },
   "outputs": [],
   "source": []
  },
  {
   "cell_type": "code",
   "execution_count": null,
   "metadata": {
    "collapsed": true
   },
   "outputs": [],
   "source": []
  },
  {
   "cell_type": "code",
   "execution_count": 261,
   "metadata": {
    "collapsed": false
   },
   "outputs": [],
   "source": [
    "def get_test():\n",
    "    text = []\n",
    "    for file in range(32):\n",
    "        with open('test/{}'.format(file+1)) as f:\n",
    "            text.append((f.read(), file+1))\n",
    "    return text\n",
    "\n",
    "ans = pd.read_csv('test.csv', header = None)"
   ]
  },
  {
   "cell_type": "code",
   "execution_count": 262,
   "metadata": {
    "collapsed": false
   },
   "outputs": [],
   "source": [
    "repl_ans = ans.replace({'clojure':'.clojure', 'python':'.python3',\n",
    "                       'javascript':'.javascript', 'ruby':'.jruby',\n",
    "                       'haskell':'.hs', 'scheme':'.scm', 'java':'.java',\n",
    "                       'scala':'.scala', 'tcl':'.tcl', 'php':'.php',\n",
    "                       'ocaml':'.ocaml'})\n"
   ]
  },
  {
   "cell_type": "code",
   "execution_count": 263,
   "metadata": {
    "collapsed": false
   },
   "outputs": [],
   "source": [
    "x_test = [x[0] for x in get_test()]\n",
    "y_test = list(repl_ans[1])\n"
   ]
  },
  {
   "cell_type": "code",
   "execution_count": 264,
   "metadata": {
    "collapsed": true
   },
   "outputs": [],
   "source": [
    "class FunctionFeaturizer(TransformerMixin):\n",
    "    def __init__(self, *featurizers):\n",
    "        self.featurizers = featurizers\n",
    "        \n",
    "    def fit(self, X, y=None):\n",
    "        '''All SciKit-learn compatible transformers and classifiers have the same\n",
    "        interface. `fit` should always return the same object (self)'''\n",
    "        return self\n",
    "    \n",
    "    def transform(self, X):\n",
    "        '''Given a list of original data, return a list of feature vectors'''\n",
    "        feature_vectors = []\n",
    "        for x in X:\n",
    "            feature_vector = [f(x) for f in self.featurizers]\n",
    "            feature_vectors.append(feature_vector)\n",
    "        \n",
    "        return np.array(feature_vectors)"
   ]
  },
  {
   "cell_type": "code",
   "execution_count": 265,
   "metadata": {
    "collapsed": true
   },
   "outputs": [],
   "source": [
    "class BagOfWordsFeaturizer(TransformerMixin):\n",
    "    def __init__(self, num_words=None):\n",
    "        self.num_words = num_words\n",
    "        \n",
    "    def fit(self, X, y=None):\n",
    "        words = []\n",
    "        for x in X:\n",
    "            x = TextBlob(x.lower())\n",
    "            words += [word.lemmatize() for word in x.words]\n",
    "        if self.num_words:\n",
    "            words = Counter(words)\n",
    "            self._vocab = [word for word, _ in words.most_common(self.num_words)]\n",
    "        else:\n",
    "            self._vocab = list(set(words))\n",
    "        return self\n",
    "    \n",
    "    def transform(self, X):\n",
    "        vectors = []\n",
    "        for x in X:\n",
    "            x = TextBlob(x.lower())\n",
    "            word_count = Counter(x.words)\n",
    "            vector = [0] * len(self._vocab)\n",
    "            for word, count in word_count.items():\n",
    "                try:\n",
    "                    idx = self._vocab.index(word)\n",
    "                    vector[idx] = count\n",
    "                except ValueError:\n",
    "                    pass\n",
    "            vectors.append(vector)\n",
    "        return vectors"
   ]
  },
  {
   "cell_type": "code",
   "execution_count": null,
   "metadata": {
    "collapsed": true
   },
   "outputs": [],
   "source": []
  },
  {
   "cell_type": "code",
   "execution_count": null,
   "metadata": {
    "collapsed": true
   },
   "outputs": [],
   "source": []
  },
  {
   "cell_type": "code",
   "execution_count": 266,
   "metadata": {
    "collapsed": false
   },
   "outputs": [],
   "source": [
    "def percentage_of_parens(text):\n",
    "    total_length = len(text)\n",
    "    text = re.sub(r'[^()]', '', text)\n",
    "    punc_length = len(text)\n",
    "    \n",
    "    return punc_length / total_length\n",
    "\n",
    "f = FunctionFeaturizer(percentage_of_parens,\n",
    "                      percentage_of_bracks,\n",
    "                      percentage_of_semi,\n",
    "                      percentage_of_dollar,\n",
    "                      percentage_of_hyphen,\n",
    "                      percentage_of_arrow,\n",
    "                      presence_of_end,\n",
    "                      presence_of_def,\n",
    "                      presence_of_elif,\n",
    "                      presence_of_elsif,\n",
    "                      presence_of_return,\n",
    "                      presence_of_defun,\n",
    "                      presence_of_object,\n",
    "                      presence_of_public,\n",
    "                      presence_of_func,\n",
    "                      presence_of_fun,\n",
    "                      presence_of_static,\n",
    "                      percentage_of_ast,\n",
    "                      presence_of_struct,\n",
    "                      presence_of_let,\n",
    "                      presence_of_at,\n",
    "                      )"
   ]
  },
  {
   "cell_type": "code",
   "execution_count": 267,
   "metadata": {
    "collapsed": false
   },
   "outputs": [],
   "source": [
    "code_featurizer = make_union(\n",
    "    BagOfWordsFeaturizer(60),\n",
    "    f\n",
    ")"
   ]
  },
  {
   "cell_type": "code",
   "execution_count": 268,
   "metadata": {
    "collapsed": false
   },
   "outputs": [
    {
     "data": {
      "text/plain": [
       "0.34375"
      ]
     },
     "execution_count": 268,
     "metadata": {},
     "output_type": "execute_result"
    }
   ],
   "source": [
    "pipe = make_pipeline(f, DecisionTreeClassifier())\n",
    "pipe.fit(x_train, y_train)\n",
    "pipe.score(x_test, y_test)"
   ]
  },
  {
   "cell_type": "code",
   "execution_count": 269,
   "metadata": {
    "collapsed": false
   },
   "outputs": [
    {
     "data": {
      "text/plain": [
       "0.375"
      ]
     },
     "execution_count": 269,
     "metadata": {},
     "output_type": "execute_result"
    }
   ],
   "source": [
    "pipe1 = make_pipeline(code_featurizer, MultinomialNB())\n",
    "pipe1.fit(x_train, y_train)\n",
    "pipe1.score(x_test, y_test)"
   ]
  },
  {
   "cell_type": "code",
   "execution_count": 270,
   "metadata": {
    "collapsed": false
   },
   "outputs": [
    {
     "data": {
      "text/plain": [
       "0.375"
      ]
     },
     "execution_count": 270,
     "metadata": {},
     "output_type": "execute_result"
    }
   ],
   "source": [
    "random_tree = make_pipeline(code_featurizer, RandomForestClassifier())\n",
    "\n",
    "random_tree.fit(x_train, y_train)\n",
    "random_tree.score(x_test, y_test)"
   ]
  },
  {
   "cell_type": "code",
   "execution_count": null,
   "metadata": {
    "collapsed": false
   },
   "outputs": [],
   "source": []
  },
  {
   "cell_type": "code",
   "execution_count": null,
   "metadata": {
    "collapsed": false
   },
   "outputs": [],
   "source": []
  },
  {
   "cell_type": "code",
   "execution_count": 271,
   "metadata": {
    "collapsed": false,
    "scrolled": true
   },
   "outputs": [
    {
     "name": "stdout",
     "output_type": "stream",
     "text": [
      "             precision    recall  f1-score   support\n",
      "\n",
      "   .clojure       0.00      0.00      0.00         0\n",
      "       .gcc       0.00      0.00      0.00         1\n",
      "        .go       0.00      0.00      0.00         1\n",
      "      .hack       0.00      0.00      0.00         3\n",
      "        .hs       0.00      0.00      0.00         0\n",
      "      .java       0.00      0.00      0.00         0\n",
      ".javascript       0.75      0.50      0.60         6\n",
      "     .jruby       0.67      0.20      0.31        10\n",
      "     .ocaml       1.00      1.00      1.00         2\n",
      "      .perl       0.00      0.00      0.00         1\n",
      "       .php       0.00      0.00      0.00         0\n",
      "   .python3       0.50      1.00      0.67         2\n",
      "    .racket       0.00      0.00      0.00         2\n",
      "     .scala       1.00      1.00      1.00         2\n",
      "       .scm       0.33      0.50      0.40         2\n",
      "       .tcl       0.00      0.00      0.00         0\n",
      "\n",
      "avg / total       0.53      0.38      0.40        32\n",
      "\n"
     ]
    },
    {
     "name": "stderr",
     "output_type": "stream",
     "text": [
      "/Users/apierce/dev/TIY/projects/polyglot/.direnv/python-3.4.3/lib/python3.4/site-packages/sklearn/metrics/classification.py:958: UndefinedMetricWarning: Precision and F-score are ill-defined and being set to 0.0 in labels with no predicted samples.\n",
      "  'precision', 'predicted', average, warn_for)\n",
      "/Users/apierce/dev/TIY/projects/polyglot/.direnv/python-3.4.3/lib/python3.4/site-packages/sklearn/metrics/classification.py:960: UndefinedMetricWarning: Recall and F-score are ill-defined and being set to 0.0 in labels with no true samples.\n",
      "  'recall', 'true', average, warn_for)\n"
     ]
    }
   ],
   "source": [
    "print(classification_report(random_tree.predict(x_test), y_test))\n"
   ]
  },
  {
   "cell_type": "code",
   "execution_count": null,
   "metadata": {
    "collapsed": true
   },
   "outputs": [],
   "source": []
  }
 ],
 "metadata": {
  "kernelspec": {
   "display_name": "Python 3",
   "language": "python",
   "name": "python3"
  },
  "language_info": {
   "codemirror_mode": {
    "name": "ipython",
    "version": 3
   },
   "file_extension": ".py",
   "mimetype": "text/x-python",
   "name": "python",
   "nbconvert_exporter": "python",
   "pygments_lexer": "ipython3",
   "version": "3.4.3"
  }
 },
 "nbformat": 4,
 "nbformat_minor": 0
}
